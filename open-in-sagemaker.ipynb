{
 "cells": [
  {
   "cell_type": "markdown",
   "id": "94e6a8e0-c570-4d31-b955-e28f4441bfbc",
   "metadata": {
    "pycharm": {
     "name": "#%% md\n"
    }
   },
   "source": [
    "# MLOps Tutorial - NYC Taxi fare\n",
    "\n",
    "This project demonstrates a complete ML project and the development flow from initial exploration to continuous deployment at scale.\n",
    "The example is based on a [Kaggle competition](https://www.kaggle.com/competitions/new-york-city-taxi-fare-prediction). Its \n",
    "goal is to predict the correct trip fare, using the public NYC Taxi dataset. \n",
    "\n",
    "This example is intended to explain and demonstrate the overall MLOps flow by using the [MLRun](https://www.mlrun.org/) MLOps orchestration framework. It is not designed to dive into the individual components or models.\n",
    "\n",
    "Open inside Sagemaker and follow the Sagemaker installation section in the [README.md](./README.md) file.\n",
    "\n",
    "The ML application development and productization flow consists of the following steps (demonstrated through notebooks):\n",
    "\n",
    "- [**Exploratory data analysis (EDA) and modeling**](./00-exploratory-data-analysis.ipynb).\n",
    "- [**Data and model pipeline development**](./01-dataprep-train-test.ipynb) (data preparation, training, evaluation, and so on).\n",
    "- [**Application & serving pipeline development**](./02-serving-pipeline.ipynb) (intercept requests, process data, inference, and so on).\n",
    "- [**Scaling and automation**](./03-automation-monitoring.ipynb) (run at scale, hyper-parameter tuning, monitoring, pipeline automation, and so on).\n",
    "- Continuous operations (automated tests, CI/CD integration, upgrades, retraining, live ops, and so on).\n",
    "\n",
    "<img src=\"./images/project-dev-flow.png\" alt=\"project-dev-flow\"/><br>\n",
    "\n",
    "You can find the python source code under [/src](./src) and the tests under [/tests](./tests).\n"
   ]
  }
 ],
 "metadata": {
  "kernelspec": {
   "display_name": "Python 3 (ipykernel)",
   "language": "python",
   "name": "python3"
  },
  "language_info": {
   "codemirror_mode": {
    "name": "ipython",
    "version": 3
   },
   "file_extension": ".py",
   "mimetype": "text/x-python",
   "name": "python",
   "nbconvert_exporter": "python",
   "pygments_lexer": "ipython3",
   "version": "3.7.7"
  }
 },
 "nbformat": 4,
 "nbformat_minor": 5
}
