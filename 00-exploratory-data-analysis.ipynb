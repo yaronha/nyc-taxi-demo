{
 "cells": [
  {
   "cell_type": "markdown",
   "metadata": {},
   "source": [
    "# Exploratory Data Analysis"
   ]
  },
  {
   "cell_type": "markdown",
   "metadata": {},
   "source": [
    "In this notebook you can see a basic exploratory data analysis on New York Taxi dataset. \n",
    "\n",
    "**Exploratory data analysis** (EDA) enables an in-depth understanding of your datasets, their quality and how they influence the target variable. EDA is vital for determining which raw and derived features should be used in the model and for examining your hypotheses. In many cases, EDA requires domain-specific knowledge (or intuition) to determine which variables can be used and how they can impact the model. EDA is usually a manual and interactive process but can use various tools to automate and better visualize the information gathering and analysis.\n",
    "\n",
    "The EDA process consists of the following steps:\n",
    "\n",
    "1. Importing relevant datasets (extraction from the overall data).\n",
    "2. Understanding the data structure and statistics.\n",
    "3. Cleaning and sanitizing.\n",
    "4. Transforming - generating derived features.\n",
    "5. Feature analysis.\n",
    "6. Cross-feature relationships and correlation analysis.\n",
    "7. Prototyping a model and evaluating feature importance.\n",
    "\n",
    "The process is iterative. You may need to obtain more data from other sources or you may find that some of the data is useless and doesn't contribute to your model or that various transformations yield better results.\n",
    "\n",
    "## Loading and understanding the data\n",
    "\n",
    "We will perform a basic statistical analysis that will help us to understand the behaviors of each feature and also examine and find outliers."
   ]
  },
  {
   "cell_type": "code",
   "execution_count": 1,
   "metadata": {},
   "outputs": [],
   "source": [
    "import numpy as np\n",
    "import pandas as pd\n",
    "import matplotlib.pyplot as plt\n",
    "import seaborn as sns\n",
    "import datetime\n",
    "import math\n",
    "import IPython\n",
    "sns.set()"
   ]
  },
  {
   "cell_type": "markdown",
   "metadata": {},
   "source": [
    "First we will load the data and immediately after that, as you can see, we will take a look of small portion of the data just to try and understand what it is about. After that we will start and examine it is main properties:\n",
    "1. The size of the data.\n",
    "2. The different types of features."
   ]
  },
  {
   "cell_type": "code",
   "execution_count": 2,
   "metadata": {},
   "outputs": [
    {
     "data": {
      "text/html": [
       "<div>\n",
       "<style scoped>\n",
       "    .dataframe tbody tr th:only-of-type {\n",
       "        vertical-align: middle;\n",
       "    }\n",
       "\n",
       "    .dataframe tbody tr th {\n",
       "        vertical-align: top;\n",
       "    }\n",
       "\n",
       "    .dataframe thead th {\n",
       "        text-align: right;\n",
       "    }\n",
       "</style>\n",
       "<table border=\"1\" class=\"dataframe\">\n",
       "  <thead>\n",
       "    <tr style=\"text-align: right;\">\n",
       "      <th></th>\n",
       "      <th>key</th>\n",
       "      <th>fare_amount</th>\n",
       "      <th>pickup_datetime</th>\n",
       "      <th>pickup_longitude</th>\n",
       "      <th>pickup_latitude</th>\n",
       "      <th>dropoff_longitude</th>\n",
       "      <th>dropoff_latitude</th>\n",
       "      <th>passenger_count</th>\n",
       "    </tr>\n",
       "  </thead>\n",
       "  <tbody>\n",
       "    <tr>\n",
       "      <th>0</th>\n",
       "      <td>2009-06-15 17:26:21.0000001</td>\n",
       "      <td>4.5</td>\n",
       "      <td>2009-06-15 17:26:21 UTC</td>\n",
       "      <td>-73.844311</td>\n",
       "      <td>40.721319</td>\n",
       "      <td>-73.841610</td>\n",
       "      <td>40.712278</td>\n",
       "      <td>1</td>\n",
       "    </tr>\n",
       "    <tr>\n",
       "      <th>1</th>\n",
       "      <td>2010-01-05 16:52:16.0000002</td>\n",
       "      <td>16.9</td>\n",
       "      <td>2010-01-05 16:52:16 UTC</td>\n",
       "      <td>-74.016048</td>\n",
       "      <td>40.711303</td>\n",
       "      <td>-73.979268</td>\n",
       "      <td>40.782004</td>\n",
       "      <td>1</td>\n",
       "    </tr>\n",
       "    <tr>\n",
       "      <th>2</th>\n",
       "      <td>2011-08-18 00:35:00.00000049</td>\n",
       "      <td>5.7</td>\n",
       "      <td>2011-08-18 00:35:00 UTC</td>\n",
       "      <td>-73.982738</td>\n",
       "      <td>40.761270</td>\n",
       "      <td>-73.991242</td>\n",
       "      <td>40.750562</td>\n",
       "      <td>2</td>\n",
       "    </tr>\n",
       "    <tr>\n",
       "      <th>3</th>\n",
       "      <td>2012-04-21 04:30:42.0000001</td>\n",
       "      <td>7.7</td>\n",
       "      <td>2012-04-21 04:30:42 UTC</td>\n",
       "      <td>-73.987130</td>\n",
       "      <td>40.733143</td>\n",
       "      <td>-73.991567</td>\n",
       "      <td>40.758092</td>\n",
       "      <td>1</td>\n",
       "    </tr>\n",
       "    <tr>\n",
       "      <th>4</th>\n",
       "      <td>2010-03-09 07:51:00.000000135</td>\n",
       "      <td>5.3</td>\n",
       "      <td>2010-03-09 07:51:00 UTC</td>\n",
       "      <td>-73.968095</td>\n",
       "      <td>40.768008</td>\n",
       "      <td>-73.956655</td>\n",
       "      <td>40.783762</td>\n",
       "      <td>1</td>\n",
       "    </tr>\n",
       "  </tbody>\n",
       "</table>\n",
       "</div>"
      ],
      "text/plain": [
       "                             key  fare_amount          pickup_datetime  \\\n",
       "0    2009-06-15 17:26:21.0000001          4.5  2009-06-15 17:26:21 UTC   \n",
       "1    2010-01-05 16:52:16.0000002         16.9  2010-01-05 16:52:16 UTC   \n",
       "2   2011-08-18 00:35:00.00000049          5.7  2011-08-18 00:35:00 UTC   \n",
       "3    2012-04-21 04:30:42.0000001          7.7  2012-04-21 04:30:42 UTC   \n",
       "4  2010-03-09 07:51:00.000000135          5.3  2010-03-09 07:51:00 UTC   \n",
       "\n",
       "   pickup_longitude  pickup_latitude  dropoff_longitude  dropoff_latitude  \\\n",
       "0        -73.844311        40.721319         -73.841610         40.712278   \n",
       "1        -74.016048        40.711303         -73.979268         40.782004   \n",
       "2        -73.982738        40.761270         -73.991242         40.750562   \n",
       "3        -73.987130        40.733143         -73.991567         40.758092   \n",
       "4        -73.968095        40.768008         -73.956655         40.783762   \n",
       "\n",
       "   passenger_count  \n",
       "0                1  \n",
       "1                1  \n",
       "2                2  \n",
       "3                1  \n",
       "4                1  "
      ]
     },
     "execution_count": 2,
     "metadata": {},
     "output_type": "execute_result"
    }
   ],
   "source": [
    "df = pd.read_csv(\"./data/dataset.csv\")\n",
    "df.head()"
   ]
  },
  {
   "cell_type": "code",
   "execution_count": 3,
   "metadata": {},
   "outputs": [
    {
     "data": {
      "text/plain": [
       "(38000, 8)"
      ]
     },
     "execution_count": 3,
     "metadata": {},
     "output_type": "execute_result"
    }
   ],
   "source": [
    "df.shape"
   ]
  },
  {
   "cell_type": "markdown",
   "metadata": {},
   "source": [
    "In order to get a complete picture of our data, you need to understand exactly what each feature means, so in most cases where you will use data that is external to your organization, make sure that there is a full explanation as in the following [**link**](https://www.kaggle.com/competitions/new-york-city-taxi-fare-prediction/data) from which I got the data for this project.\n",
    "\n",
    "\n",
    "### Data fields\n",
    "#### ID\n",
    "    1. key - Unique string identifying each row in both the training and test sets. Comprised of pickup_datetime plus a unique integer, but this doesn't matter, it should just be used as a unique ID field.\n",
    "\n",
    "#### Features\n",
    "    1. pickup_datetime - timestamp value indicating when the taxi ride started.\n",
    "    2. pickup_longitude - float for longitude coordinate of where the taxi ride started.\n",
    "    3. pickup_latitude - float for latitude coordinate of where the taxi ride started.\n",
    "    4. dropoff_longitude - float for longitude coordinate of where the taxi ride ended.\n",
    "    5. dropoff_latitude - float for latitude coordinate of where the taxi ride ended.\n",
    "    6. passenger_count - integer indicating the number of passengers in the taxi ride.\n",
    "\n",
    "#### Target\n",
    "    1. fare_amount - float dollar amount of the cost of the taxi ride. This value is only in the training set; this is what you are predicting in the test set and it is required in your submission CSV.\n",
    "\n",
    "And of course beside the meanig of each feature you need exmine the types of the feature."
   ]
  },
  {
   "cell_type": "code",
   "execution_count": 4,
   "metadata": {},
   "outputs": [
    {
     "data": {
      "text/plain": [
       "key                   object\n",
       "fare_amount          float64\n",
       "pickup_datetime       object\n",
       "pickup_longitude     float64\n",
       "pickup_latitude      float64\n",
       "dropoff_longitude    float64\n",
       "dropoff_latitude     float64\n",
       "passenger_count        int64\n",
       "dtype: object"
      ]
     },
     "execution_count": 4,
     "metadata": {},
     "output_type": "execute_result"
    }
   ],
   "source": [
    "df.dtypes"
   ]
  },
  {
   "cell_type": "markdown",
   "metadata": {},
   "source": [
    "Now we will start and examine the statistical characteristics of each feature, initial information that can give us different directions in finding outliers, dummies, etc."
   ]
  },
  {
   "cell_type": "code",
   "execution_count": 5,
   "metadata": {},
   "outputs": [
    {
     "data": {
      "text/html": [
       "<div>\n",
       "<style scoped>\n",
       "    .dataframe tbody tr th:only-of-type {\n",
       "        vertical-align: middle;\n",
       "    }\n",
       "\n",
       "    .dataframe tbody tr th {\n",
       "        vertical-align: top;\n",
       "    }\n",
       "\n",
       "    .dataframe thead th {\n",
       "        text-align: right;\n",
       "    }\n",
       "</style>\n",
       "<table border=\"1\" class=\"dataframe\">\n",
       "  <thead>\n",
       "    <tr style=\"text-align: right;\">\n",
       "      <th></th>\n",
       "      <th>fare_amount</th>\n",
       "      <th>pickup_longitude</th>\n",
       "      <th>pickup_latitude</th>\n",
       "      <th>dropoff_longitude</th>\n",
       "      <th>dropoff_latitude</th>\n",
       "      <th>passenger_count</th>\n",
       "    </tr>\n",
       "  </thead>\n",
       "  <tbody>\n",
       "    <tr>\n",
       "      <th>count</th>\n",
       "      <td>38000.000000</td>\n",
       "      <td>38000.000000</td>\n",
       "      <td>38000.000000</td>\n",
       "      <td>38000.000000</td>\n",
       "      <td>38000.000000</td>\n",
       "      <td>38000.000000</td>\n",
       "    </tr>\n",
       "    <tr>\n",
       "      <th>mean</th>\n",
       "      <td>11.348630</td>\n",
       "      <td>-72.507625</td>\n",
       "      <td>39.932528</td>\n",
       "      <td>-72.495517</td>\n",
       "      <td>39.919080</td>\n",
       "      <td>1.663237</td>\n",
       "    </tr>\n",
       "    <tr>\n",
       "      <th>std</th>\n",
       "      <td>9.639597</td>\n",
       "      <td>10.410071</td>\n",
       "      <td>6.329258</td>\n",
       "      <td>10.448033</td>\n",
       "      <td>6.066357</td>\n",
       "      <td>1.283981</td>\n",
       "    </tr>\n",
       "    <tr>\n",
       "      <th>min</th>\n",
       "      <td>-3.000000</td>\n",
       "      <td>-75.414728</td>\n",
       "      <td>-74.006893</td>\n",
       "      <td>-84.654241</td>\n",
       "      <td>-74.006377</td>\n",
       "      <td>0.000000</td>\n",
       "    </tr>\n",
       "    <tr>\n",
       "      <th>25%</th>\n",
       "      <td>6.000000</td>\n",
       "      <td>-73.992065</td>\n",
       "      <td>40.734809</td>\n",
       "      <td>-73.991182</td>\n",
       "      <td>40.734324</td>\n",
       "      <td>1.000000</td>\n",
       "    </tr>\n",
       "    <tr>\n",
       "      <th>50%</th>\n",
       "      <td>8.500000</td>\n",
       "      <td>-73.981737</td>\n",
       "      <td>40.752701</td>\n",
       "      <td>-73.980210</td>\n",
       "      <td>40.753339</td>\n",
       "      <td>1.000000</td>\n",
       "    </tr>\n",
       "    <tr>\n",
       "      <th>75%</th>\n",
       "      <td>12.500000</td>\n",
       "      <td>-73.967051</td>\n",
       "      <td>40.767342</td>\n",
       "      <td>-73.963799</td>\n",
       "      <td>40.768162</td>\n",
       "      <td>2.000000</td>\n",
       "    </tr>\n",
       "    <tr>\n",
       "      <th>max</th>\n",
       "      <td>200.000000</td>\n",
       "      <td>40.783472</td>\n",
       "      <td>401.083332</td>\n",
       "      <td>40.851027</td>\n",
       "      <td>43.415190</td>\n",
       "      <td>6.000000</td>\n",
       "    </tr>\n",
       "  </tbody>\n",
       "</table>\n",
       "</div>"
      ],
      "text/plain": [
       "        fare_amount  pickup_longitude  pickup_latitude  dropoff_longitude  \\\n",
       "count  38000.000000      38000.000000     38000.000000       38000.000000   \n",
       "mean      11.348630        -72.507625        39.932528         -72.495517   \n",
       "std        9.639597         10.410071         6.329258          10.448033   \n",
       "min       -3.000000        -75.414728       -74.006893         -84.654241   \n",
       "25%        6.000000        -73.992065        40.734809         -73.991182   \n",
       "50%        8.500000        -73.981737        40.752701         -73.980210   \n",
       "75%       12.500000        -73.967051        40.767342         -73.963799   \n",
       "max      200.000000         40.783472       401.083332          40.851027   \n",
       "\n",
       "       dropoff_latitude  passenger_count  \n",
       "count      38000.000000     38000.000000  \n",
       "mean          39.919080         1.663237  \n",
       "std            6.066357         1.283981  \n",
       "min          -74.006377         0.000000  \n",
       "25%           40.734324         1.000000  \n",
       "50%           40.753339         1.000000  \n",
       "75%           40.768162         2.000000  \n",
       "max           43.415190         6.000000  "
      ]
     },
     "execution_count": 5,
     "metadata": {},
     "output_type": "execute_result"
    }
   ],
   "source": [
    "df.describe()"
   ]
  },
  {
   "cell_type": "markdown",
   "metadata": {},
   "source": [
    "It can be seen that there is a fairly large difference between the average and the maximum and minimum of all the geographic indices, \n",
    "which raises the question of whether these are outliers.\n",
    "\n",
    "In order to understand if this is indeed the case, we will take a look at the joint probability of each pair of geographic variables : \n",
    "\n",
    "    1. pickup_longitude, pickup_latitude.\n",
    "    2. dropoff_longitude, dropoff_latitude"
   ]
  },
  {
   "cell_type": "code",
   "execution_count": 6,
   "metadata": {},
   "outputs": [
    {
     "data": {
      "text/plain": [
       "<seaborn.axisgrid.JointGrid at 0x7fcdeddffb90>"
      ]
     },
     "execution_count": 6,
     "metadata": {},
     "output_type": "execute_result"
    },
    {
     "data": {
      "image/png": "[encoded data removed]",
      "text/plain": [
       "<Figure size 432x432 with 3 Axes>"
      ]
     },
     "metadata": {},
     "output_type": "display_data"
    }
   ],
   "source": [
    "sns.jointplot(data=df, x=\"pickup_longitude\", y=\"pickup_latitude\")"
   ]
  },
  {
   "cell_type": "code",
   "execution_count": 7,
   "metadata": {},
   "outputs": [
    {
     "data": {
      "text/plain": [
       "<seaborn.axisgrid.JointGrid at 0x7fcded401c50>"
      ]
     },
     "execution_count": 7,
     "metadata": {},
     "output_type": "execute_result"
    },
    {
     "data": {
      "image/png": "[encoded data removed]",
      "text/plain": [
       "<Figure size 432x432 with 3 Axes>"
      ]
     },
     "metadata": {},
     "output_type": "display_data"
    }
   ],
   "source": [
    "sns.jointplot(data=df, x=\"dropoff_longitude\", y=\"dropoff_latitude\")"
   ]
  },
  {
   "cell_type": "markdown",
   "metadata": {},
   "source": [
    "Another outlires we can see is the in the target where we got fare amount that is lower than 0."
   ]
  },
  {
   "cell_type": "code",
   "execution_count": 8,
   "metadata": {},
   "outputs": [
    {
     "data": {
      "text/plain": [
       "Text(0.5, 1.0, 'Distribution of the fare amount')"
      ]
     },
     "execution_count": 8,
     "metadata": {},
     "output_type": "execute_result"
    },
    {
     "data": {
      "image/png": "[encoded data removed]",
      "text/plain": [
       "<Figure size 432x288 with 1 Axes>"
      ]
     },
     "metadata": {},
     "output_type": "display_data"
    }
   ],
   "source": [
    "sns.distplot(df['fare_amount'])\n",
    "plt.title('Distribution of the fare amount')"
   ]
  },
  {
   "cell_type": "markdown",
   "metadata": {},
   "source": [
    "## Creating and analyzing derived features\n",
    "\n",
    "When we have a dimension of time in the data, a good practice is to look at the distribution of features against our time, of course after breaking down the time into days, hours, months, etc.\n",
    "\n",
    "Here you can see the distribution of the the fare amount vs time."
   ]
  },
  {
   "cell_type": "code",
   "execution_count": 9,
   "metadata": {},
   "outputs": [],
   "source": [
    "df[\"pickup_datetime\"] = pd.to_datetime(\n",
    "        df[\"pickup_datetime\"], format=\"%Y-%m-%d %H:%M:%S UTC\"\n",
    "    )\n",
    "\n",
    "df[\"hour\"] = df.pickup_datetime.dt.hour\n",
    "df[\"day\"] = df.pickup_datetime.dt.day\n",
    "df[\"month\"] = df.pickup_datetime.dt.month\n",
    "df[\"weekday\"] = df.pickup_datetime.dt.weekday\n",
    "df[\"year\"] = df.pickup_datetime.dt.year"
   ]
  },
  {
   "cell_type": "code",
   "execution_count": 10,
   "metadata": {},
   "outputs": [
    {
     "data": {
      "image/png": "[encoded data removed]",
      "text/plain": [
       "<Figure size 720x720 with 5 Axes>"
      ]
     },
     "metadata": {},
     "output_type": "display_data"
    }
   ],
   "source": [
    "figure,ax=plt.subplots(nrows=5,ncols=1,figsize=(10,10))\n",
    "sns.countplot(x='weekday',data=df,ax=ax[0])\n",
    "ax[0].set_title('Number of Pickups done on each day of the week')\n",
    "sns.countplot(x='day',data=df,ax=ax[1])\n",
    "ax[1].set_title('Number of dropoffs done on each day of the month')\n",
    "sns.countplot(x='hour',data=df,ax=ax[2])\n",
    "ax[2].set_title('Number of dropoffs done on each hour of the day')\n",
    "sns.countplot(x='month',data=df,ax=ax[3])\n",
    "ax[3].set_title('Number of dropoffs done on each month')\n",
    "sns.countplot(x='year',data=df,ax=ax[4])\n",
    "ax[4].set_title('Number of dropoffs done on each year')\n",
    "plt.tight_layout()\n"
   ]
  },
  {
   "cell_type": "markdown",
   "metadata": {},
   "source": [
    "## Cross-feature relationships and correlation analysis\n",
    "\n",
    "In addition, it is worth looking at the correlation matrix between the various features, with the help of which maybe to dilute some of them in order to or maybe even connect them to a single feature"
   ]
  },
  {
   "cell_type": "code",
   "execution_count": 11,
   "metadata": {},
   "outputs": [
    {
     "data": {
      "image/png": "[encoded data removed]",
      "text/plain": [
       "<Figure size 864x720 with 2 Axes>"
      ]
     },
     "metadata": {},
     "output_type": "display_data"
    }
   ],
   "source": [
    "corr = df.drop('fare_amount', axis=1).corr()\n",
    "plt.figure(figsize=(12, 10))\n",
    "\n",
    "sns.heatmap(corr[(corr >= 0.5) | (corr <= -0.4)], \n",
    "            cmap='viridis', vmax=1.0, vmin=-1.0, linewidths=0.1,\n",
    "            annot=True, annot_kws={\"size\": 8}, square=True);"
   ]
  },
  {
   "cell_type": "markdown",
   "metadata": {},
   "source": [
    "Conclusions that arose from the following analysis:\n",
    "\n",
    "    1. It can be seen that all of our geographic parameters have outliers when longitude<-200 and latitude>200\n",
    "\n",
    "    2. Fare amount includes also outliers.\n",
    "\n",
    "    3. The number of passengers is a number between 1 to 6 can be considered as dummies.\n",
    "\n",
    "    4. There is a fairly equal distribution of the fare amount against time.\n",
    "\n",
    "Of course, this is a notebook that presents only a basic and initial analysis of the data, you can see more detailed examples of the analysis in the following links : \n",
    "1. https://medium.com/analytics-vidhya/exploratory-data-analysis-of-nyc-taxi-trip-duration-dataset-using-python-257fdef2749e\n",
    "2. https://www.analyticsvidhya.com/blog/2021/01/exploratory-data-analysis-on-nyc-taxi-trip-duration-dataset/"
   ]
  },
  {
   "cell_type": "markdown",
   "metadata": {},
   "source": [
    "### Using MLRun to accelerate EDA \n",
    "\n",
    "You can see by simply running the describe function from our Market Place you can get a lot of information about the data and perform a qualitative and in-depth analysis on it."
   ]
  },
  {
   "cell_type": "code",
   "execution_count": 13,
   "metadata": {},
   "outputs": [
    {
     "name": "stdout",
     "output_type": "stream",
     "text": [
      "> 2022-11-21 11:46:42,813 [info] Username was normalized to match the required pattern for project name: {'username': 'Davesh', 'normalized_username': 'davesh'}\n",
      "> 2022-11-21 11:46:42,814 [info] Username was normalized to match the required pattern for project name: {'username': 'Davesh', 'normalized_username': 'davesh'}\n",
      "> 2022-11-21 11:46:42,867 [info] loaded project ny-taxi-eda from MLRun DB\n",
      "> 2022-11-21 11:46:43,002 [info] starting run describe-analyze uid=f473f43294304411a84580c5c888738c DB=http://mlrun-api:8080\n",
      "> 2022-11-21 11:46:51,705 [info] The data set is logged to the project under dataset name\n"
     ]
    },
    {
     "data": {
      "text/html": [
       "<style>\n",
       ".dictlist {\n",
       "  background-color: #4EC64B;\n",
       "  text-align: center;\n",
       "  margin: 4px;\n",
       "  border-radius: 3px; padding: 0px 3px 1px 3px; display: inline-block;}\n",
       ".artifact {\n",
       "  cursor: pointer;\n",
       "  background-color: #4EC64B;\n",
       "  text-align: left;\n",
       "  margin: 4px; border-radius: 3px; padding: 0px 3px 1px 3px; display: inline-block;\n",
       "}\n",
       "div.block.hidden {\n",
       "  display: none;\n",
       "}\n",
       ".clickable {\n",
       "  cursor: pointer;\n",
       "}\n",
       ".ellipsis {\n",
       "  display: inline-block;\n",
       "  max-width: 60px;\n",
       "  white-space: nowrap;\n",
       "  overflow: hidden;\n",
       "  text-overflow: ellipsis;\n",
       "}\n",
       ".master-wrapper {\n",
       "  display: flex;\n",
       "  flex-flow: row nowrap;\n",
       "  justify-content: flex-start;\n",
       "  align-items: stretch;\n",
       "}\n",
       ".master-tbl {\n",
       "  flex: 3\n",
       "}\n",
       ".master-wrapper > div {\n",
       "  margin: 4px;\n",
       "  padding: 10px;\n",
       "}\n",
       "iframe.fileview {\n",
       "  border: 0 none;\n",
       "  height: 100%;\n",
       "  width: 100%;\n",
       "  white-space: pre-wrap;\n",
       "}\n",
       ".pane-header-title {\n",
       "  width: 80%;\n",
       "  font-weight: 500;\n",
       "}\n",
       ".pane-header {\n",
       "  line-height: 1;\n",
       "  background-color: #4EC64B;\n",
       "  padding: 3px;\n",
       "}\n",
       ".pane-header .close {\n",
       "  font-size: 20px;\n",
       "  font-weight: 700;\n",
       "  float: right;\n",
       "  margin-top: -5px;\n",
       "}\n",
       ".master-wrapper .right-pane {\n",
       "  border: 1px inset silver;\n",
       "  width: 40%;\n",
       "  min-height: 300px;\n",
       "  flex: 3\n",
       "  min-width: 500px;\n",
       "}\n",
       ".master-wrapper * {\n",
       "  box-sizing: border-box;\n",
       "}\n",
       "</style><script>\n",
       "function copyToClipboard(fld) {\n",
       "    if (document.queryCommandSupported && document.queryCommandSupported('copy')) {\n",
       "        var textarea = document.createElement('textarea');\n",
       "        textarea.textContent = fld.innerHTML;\n",
       "        textarea.style.position = 'fixed';\n",
       "        document.body.appendChild(textarea);\n",
       "        textarea.select();\n",
       "\n",
       "        try {\n",
       "            return document.execCommand('copy'); // Security exception may be thrown by some browsers.\n",
       "        } catch (ex) {\n",
       "\n",
       "        } finally {\n",
       "            document.body.removeChild(textarea);\n",
       "        }\n",
       "    }\n",
       "}\n",
       "function expandPanel(el) {\n",
       "  const panelName = \"#\" + el.getAttribute('paneName');\n",
       "  console.log(el.title);\n",
       "\n",
       "  document.querySelector(panelName + \"-title\").innerHTML = el.title\n",
       "  iframe = document.querySelector(panelName + \"-body\");\n",
       "\n",
       "  const tblcss = `<style> body { font-family: Arial, Helvetica, sans-serif;}\n",
       "    #csv { margin-bottom: 15px; }\n",
       "    #csv table { border-collapse: collapse;}\n",
       "    #csv table td { padding: 4px 8px; border: 1px solid silver;} </style>`;\n",
       "\n",
       "  function csvToHtmlTable(str) {\n",
       "    return '<div id=\"csv\"><table><tr><td>' +  str.replace(/[\\n\\r]+$/g, '').replace(/[\\n\\r]+/g, '</td></tr><tr><td>')\n",
       "      .replace(/,/g, '</td><td>') + '</td></tr></table></div>';\n",
       "  }\n",
       "\n",
       "  function reqListener () {\n",
       "    if (el.title.endsWith(\".csv\")) {\n",
       "      iframe.setAttribute(\"srcdoc\", tblcss + csvToHtmlTable(this.responseText));\n",
       "    } else {\n",
       "      iframe.setAttribute(\"srcdoc\", this.responseText);\n",
       "    }\n",
       "    console.log(this.responseText);\n",
       "  }\n",
       "\n",
       "  const oReq = new XMLHttpRequest();\n",
       "  oReq.addEventListener(\"load\", reqListener);\n",
       "  oReq.open(\"GET\", el.title);\n",
       "  oReq.send();\n",
       "\n",
       "\n",
       "  //iframe.src = el.title;\n",
       "  const resultPane = document.querySelector(panelName + \"-pane\");\n",
       "  if (resultPane.classList.contains(\"hidden\")) {\n",
       "    resultPane.classList.remove(\"hidden\");\n",
       "  }\n",
       "}\n",
       "function closePanel(el) {\n",
       "  const panelName = \"#\" + el.getAttribute('paneName')\n",
       "  const resultPane = document.querySelector(panelName + \"-pane\");\n",
       "  if (!resultPane.classList.contains(\"hidden\")) {\n",
       "    resultPane.classList.add(\"hidden\");\n",
       "  }\n",
       "}\n",
       "\n",
       "</script>\n",
       "<div class=\"master-wrapper\">\n",
       "  <div class=\"block master-tbl\"><div>\n",
       "<style scoped>\n",
       "    .dataframe tbody tr th:only-of-type {\n",
       "        vertical-align: middle;\n",
       "    }\n",
       "\n",
       "    .dataframe tbody tr th {\n",
       "        vertical-align: top;\n",
       "    }\n",
       "\n",
       "    .dataframe thead th {\n",
       "        text-align: right;\n",
       "    }\n",
       "</style>\n",
       "<table border=\"1\" class=\"dataframe\">\n",
       "  <thead>\n",
       "    <tr style=\"text-align: right;\">\n",
       "      <th>project</th>\n",
       "      <th>uid</th>\n",
       "      <th>iter</th>\n",
       "      <th>start</th>\n",
       "      <th>state</th>\n",
       "      <th>name</th>\n",
       "      <th>labels</th>\n",
       "      <th>inputs</th>\n",
       "      <th>parameters</th>\n",
       "      <th>results</th>\n",
       "      <th>artifacts</th>\n",
       "    </tr>\n",
       "  </thead>\n",
       "  <tbody>\n",
       "    <tr>\n",
       "      <td>ny-taxi-eda-davesh</td>\n",
       "      <td><div title=\"f473f43294304411a84580c5c888738c\"><a href=\"https://dashboard.default-tenant.app.yh43.iguazio-cd1.com/mlprojects/ny-taxi-eda-davesh/jobs/monitor/f473f43294304411a84580c5c888738c/overview\" target=\"_blank\" >...c888738c</a></div></td>\n",
       "      <td>0</td>\n",
       "      <td>Nov 21 11:46:43</td>\n",
       "      <td>completed</td>\n",
       "      <td>describe-analyze</td>\n",
       "      <td><div class=\"dictlist\">v3io_user=Davesh</div><div class=\"dictlist\">kind=</div><div class=\"dictlist\">owner=Davesh</div><div class=\"dictlist\">host=jupyter-davids-55f4d7f589-bm7n5</div></td>\n",
       "      <td><div class=\"artifact\" onclick=\"expandPanel(this)\" paneName=\"resulte3f9cb63\" title=\"/files/nyc-taxi-demo/data/data_set_describe.csv\">table</div></td>\n",
       "      <td><div class=\"dictlist\">label_column=Win</div></td>\n",
       "      <td></td>\n",
       "      <td><div class=\"artifact\" onclick=\"expandPanel(this)\" paneName=\"resulte3f9cb63\" title=\"files/v3io/projects/ny-taxi-eda-davesh/artifacts/describe-analyze/0/describe-csv.csv\">describe-csv</div><div class=\"artifact\" onclick=\"expandPanel(this)\" paneName=\"resulte3f9cb63\" title=\"files/v3io/projects/ny-taxi-eda-davesh/artifacts/describe-analyze/0/plots/hist.html\">plots/hist.html</div><div class=\"artifact\" onclick=\"expandPanel(this)\" paneName=\"resulte3f9cb63\" title=\"files/v3io/projects/ny-taxi-eda-davesh/artifacts/describe-analyze/0/histograms.html\">histograms</div><div class=\"artifact\" onclick=\"expandPanel(this)\" paneName=\"resulte3f9cb63\" title=\"files/v3io/projects/ny-taxi-eda-davesh/artifacts/describe-analyze/0/scatter-2d.html\">scatter-2d</div><div class=\"artifact\" onclick=\"expandPanel(this)\" paneName=\"resulte3f9cb63\" title=\"files/v3io/projects/ny-taxi-eda-davesh/artifacts/describe-analyze/0/violin.html\">violin</div><div class=\"artifact\" onclick=\"expandPanel(this)\" paneName=\"resulte3f9cb63\" title=\"files/v3io/projects/ny-taxi-eda-davesh/artifacts/describe-analyze/0/correlation-matrix-csv.csv\">correlation-matrix-csv</div><div class=\"artifact\" onclick=\"expandPanel(this)\" paneName=\"resulte3f9cb63\" title=\"files/v3io/projects/ny-taxi-eda-davesh/artifacts/describe-analyze/0/correlation.html\">correlation</div><div title=\"v3io:///projects/ny-taxi-eda-davesh/artifacts/describe-analyze/0/dataset.parquet\">dataset</div></td>\n",
       "    </tr>\n",
       "  </tbody>\n",
       "</table>\n",
       "</div></div>\n",
       "  <div id=\"resulte3f9cb63-pane\" class=\"right-pane block hidden\">\n",
       "    <div class=\"pane-header\">\n",
       "      <span id=\"resulte3f9cb63-title\" class=\"pane-header-title\">Title</span>\n",
       "      <span onclick=\"closePanel(this)\" paneName=\"resulte3f9cb63\" class=\"close clickable\">&times;</span>\n",
       "    </div>\n",
       "    <iframe class=\"fileview\" id=\"resulte3f9cb63-body\"></iframe>\n",
       "  </div>\n",
       "</div>\n"
      ],
      "text/plain": [
       "<IPython.core.display.HTML object>"
      ]
     },
     "metadata": {},
     "output_type": "display_data"
    },
    {
     "name": "stdout",
     "output_type": "stream",
     "text": [
      "\n"
     ]
    },
    {
     "data": {
      "text/html": [
       "<b> > to track results use the .show() or .logs() methods  or <a href=\"https://dashboard.default-tenant.app.yh43.iguazio-cd1.com/mlprojects/ny-taxi-eda-davesh/jobs/monitor/f473f43294304411a84580c5c888738c/overview\" target=\"_blank\">click here</a> to open in UI</b>"
      ],
      "text/plain": [
       "<IPython.core.display.HTML object>"
      ]
     },
     "metadata": {},
     "output_type": "display_data"
    },
    {
     "name": "stdout",
     "output_type": "stream",
     "text": [
      "> 2022-11-21 11:46:51,823 [info] run executed, status=completed\n"
     ]
    }
   ],
   "source": [
    "df.to_csv('./data/data_set_describe.csv', index=False)\n",
    "\n",
    "\n",
    "import mlrun\n",
    "\n",
    "project = mlrun.get_or_create_project(\n",
    "    name=\"ny-taxi-eda\", user_project=True, context=\"./\"\n",
    ")\n",
    "\n",
    "# import the function\n",
    "describe = mlrun.import_function('hub://describe')\n",
    "\n",
    "describe_run = describe.run(params={'label_column': 'Win'},\n",
    "                            inputs={\"table\": './data/data_set_describe.csv'}, local=True)"
   ]
  },
  {
   "cell_type": "markdown",
   "metadata": {},
   "source": [
    "#### Few examples for plots we get from mlrun describe function."
   ]
  },
  {
   "cell_type": "code",
   "execution_count": 14,
   "metadata": {},
   "outputs": [
    {
     "data": {
      "text/plain": [
       "{'describe-csv': 'v3io:///projects/ny-taxi-eda-davesh/artifacts/describe-analyze/0/describe-csv.csv',\n",
       " 'plots/hist.html': 'v3io:///projects/ny-taxi-eda-davesh/artifacts/describe-analyze/0/plots/hist.html',\n",
       " 'histograms': 'v3io:///projects/ny-taxi-eda-davesh/artifacts/describe-analyze/0/histograms.html',\n",
       " 'scatter-2d': 'v3io:///projects/ny-taxi-eda-davesh/artifacts/describe-analyze/0/scatter-2d.html',\n",
       " 'violin': 'v3io:///projects/ny-taxi-eda-davesh/artifacts/describe-analyze/0/violin.html',\n",
       " 'correlation-matrix-csv': 'v3io:///projects/ny-taxi-eda-davesh/artifacts/describe-analyze/0/correlation-matrix-csv.csv',\n",
       " 'correlation': 'v3io:///projects/ny-taxi-eda-davesh/artifacts/describe-analyze/0/correlation.html',\n",
       " 'dataset': 'store://artifacts/ny-taxi-eda-davesh/dataset:f473f43294304411a84580c5c888738c'}"
      ]
     },
     "execution_count": 14,
     "metadata": {},
     "output_type": "execute_result"
    }
   ],
   "source": [
    "# view generated artifacts (charts)\n",
    "describe_run.outputs"
   ]
  },
  {
   "cell_type": "markdown",
   "metadata": {},
   "source": [
    "<img src=\"./images/describe.png\" alt=\"describe\" width=\"1000\"/>"
   ]
  }
 ],
 "metadata": {
  "kernelspec": {
   "name": "conda-env-mlrun-py"
  },
  "language_info": {
   "codemirror_mode": {
    "name": "ipython",
    "version": 3
   },
   "file_extension": ".py",
   "mimetype": "text/x-python",
   "name": "python",
   "nbconvert_exporter": "python",
   "pygments_lexer": "ipython3",
   "version": "3.9.15"
  }
 },
 "nbformat": 4,
 "nbformat_minor": 4
}
